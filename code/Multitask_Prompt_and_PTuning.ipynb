{
 "cells": [
  {
   "cell_type": "markdown",
   "id": "c04653a4",
   "metadata": {},
   "source": [
    "# Introduction\n",
    "\n",
    "This notebooks demonstrates p-tuning and & prompt-tuning with NeMo-Megatron. These are parameter efficient alternatives to full fine-tuning of a language model. This NeMo implementation lets you use one pretrained GPT model on different downstream tasks without fine-tuning the model’s full set of parameters. It also lets you add new tasks to your model without overwriting or disrupting previous tasks for which the model was p-tuned/prompt-tuned. The original model parameters are frozen and not altered by either method, so you can avoid forgetting issues that can happen with fine-tuning.\n",
    "\n",
    "- This prompt tuning implementation is based on Lester et. al’s EMNLP 2021 paper [The Power of Scale for Parameter-Efficient Prompt Tuning](https://arxiv.org/abs/2104.08691)\n",
    "\n",
    "- This p-tuning implementation is based on Liu et al's paper [GPT Understands, Too](https://arxiv.org/abs/2103.10385).\n",
    "\n",
    "- Command line usage examples and API documentation can be found in [our user docs](https://docs.nvidia.com/deeplearning/nemo/user-guide/docs/en/main/nlp/nemo_megatron/prompt_learning.html). \n",
    "\n",
    "\n",
    "This continuous learning capability for combined p-tuning & prompt tuning with GPT style models is a NeMo specific extension of the original work.\n",
    "\n",
    "# The Plan\n",
    "\n",
    "We will demonstrate:\n",
    "    \n",
    "    1. P-Tune/Prompt Tune a model on multiple tasks at the same time\n",
    "    2. Add a new task to a model that has already been P-Tuned/Prompt Tuned previously\n",
    "    \n",
    "We will first p-tune a GPT model on sentiment analysis, and intent and slot classification tasks. Then we will show how to add the squad question answering task to the same model we already p-tuned once.\n",
    "\n",
    "\n",
    "# Technical Overview\n",
    "Instead of selecting discrete text prompts in a manual or automated fashion, prompt tuning and p-tuning utilize virtual prompt embeddings that can be optimized via gradient decent. The only difference between prompt tuning and p-tuning within NeMo-Megatron is the architecture used to tune the soft prompt tokens during training.\n",
    "\n",
    "### Terminology\n",
    "We will be using the terms `continuous`, `soft`, and `virtual` token interchangeably to refer to embeddings inserted into the model prompt that have no concrete mapping to strings or characters within the model’s vocabulary. These virtual token embeddings exist in contrast to the `discrete`, `hard`, or `real` tokens that do make up the model’s vocabulary. Virtual tokens are purely 1D vectors with dimensionality equal to that of each real token embedding, matching the `hidden_size` hyperparameter. In training and inference, continuous token embeddings are inserted among discrete token embeddings according to a template you provide in the model’s config. We will demonstrate how to do this below.\n",
    "\n",
    "When referring to p-tuning and prompt tuning together, we will be using the phrase prompt learning for simplicity.\n",
    "\n",
    "### Prompt-Tuning\n",
    "In prompt-tuning a pretrained GPT model, soft prompt embeddings are initialized as a 2D matrix of size `total_virtual_tokens X hidden_size`. Each task the model is prompt-tuned to perform has its own 2D embedding matrix associated with it. Tasks do not share any parameters during training or inference. All GPT model parameters are frozen and only the embedding parameters for each task are updated during training.\n",
    "\n",
    "In prompt tuning you can specify how the embeddings are initialized for each task. You can either\n",
    "\n",
    "1. Initialize embedding parameters according to some random distribution\n",
    "2. Initialize embedding parameters from existing vocabulary embeddings (recommended)\n",
    "\n",
    "If you choose to initialize virtual token embeddings from existing embedding weights, you can provide the string of words you want to use for initialization in the model’s config. This string will be tokenized and tiled or truncated to match the specified number of virtual tokens you would like to use (`total_virtual_tokens`). Vocab embeddings are copied and used to initialize the soft prompt embedding matrix for each task. The vocab embeddings themselves are not updated or changed during prompt tuning.\n",
    "\n",
    "\n",
    "### P-Tuning\n",
    "In p-tuning, an LSTM model is used to predict virtual token embeddings. We refer to this LSTM model as our `prompt_encoder`. LSTM parameters are randomly initialized at the start of p-tuning. All GPT model parameters are frozen, and only the LSTM weights are updated at each training step. LSTM parameters are shared between all tasks that are p-tuned at the same time, but the LSTM model outputs unique virtual token embeddings for each task. The virtual tokens predicted by the LSTM are inserted among the discrete token input in the exact same manner as with prompt-tuning. You still specify the number of virtual tokens you want to use by setting `total_virtual_tokens` and each virtual token embedding is still a 1D vector of size `hidden_size`.\n",
    "\n",
    "\n",
    "\n",
    "# The Best of Both\n",
    "A single pretrained GPT model can use both p-tuning and prompt-tuning. While you must decide to use either p-tuning or prompt-tuning for each task you want your model to perform, you can p-tune your model on a set of tasks A, then prompt tune your same model on a different set of tasks B, then finally run inference on tasks from both A and B at the same time. During prompt-tuning or p-tuning, tasks tuned at the same time must use the same number of virtual tokens. During inference, tasks using differing amounts of virtual tokens can be run at the same time.\n",
    "\n",
    "Please see our [docs for more comparisons between prompt and p-tuning](https://docs.nvidia.com/deeplearning/nemo/user-guide/docs/en/main/nlp/nemo_megatron/prompt_learning.html). \n",
    "\n",
    "With all that covered, let's get started!\n"
   ]
  },
  {
   "cell_type": "code",
   "execution_count": 1,
   "id": "86bfee4f",
   "metadata": {},
   "outputs": [],
   "source": [
    "# Any files we download will be from the main branch of the repository\n",
    "BRANCH='main'"
   ]
  },
  {
   "cell_type": "code",
   "execution_count": 2,
   "id": "f84330df",
   "metadata": {},
   "outputs": [],
   "source": [
    "import os\n",
    "import wget"
   ]
  },
  {
   "cell_type": "markdown",
   "id": "7fb430eb",
   "metadata": {},
   "source": [
    "# Tasks and Datasets\n",
    "We will be using p-tuning to teach our GPT model to do **Question Answering**.\n",
    "\n",
    "We will be using the [SQuAD](https://rajpurkar.github.io/SQuAD-explorer/) reading comprehension dataset, consisting of questions posed by crowd workers on a set of Wikipedia articles, where the answer to every question is a segment of text. More information on [SQuAD](https://rajpurkar.github.io/SQuAD-explorer/) can be found on their website or in their paper by Rajpurkar et. al \"[Know What You Don’t Know: Unanswerable Questions for SQuAD](https://arxiv.org/pdf/1806.03822.pdf)\"."
   ]
  },
  {
   "cell_type": "markdown",
   "id": "ee5da4be",
   "metadata": {},
   "source": [
    "# Data Preparation\n",
    "\n",
    "The prompt learning dataset loader accepts a list of json/dictionary objects or a list of json file names where each json file contains a collection of json objects. Each json object must include the field `taskname` which is a string identifier for the task the data example corresponds to. They should also include one or more fields corresponding to different sections of the discrete text prompt. The input data might look like:\n",
    "\n",
    "```\n",
    "[\n",
    "    {\"taskname\": \"squad\", \"context\": [CONTEXT_PARAGRAPH_TEXT1], \"question\": [QUESTION_TEXT1], \"answer\": [ANSWER_TEXT1]},\n",
    "    {\"taskname\": \"squad\", \"context\": [CONTEXT_PARAGRAPH_TEXT2], \"question\": [QUESTION_TEXT2], \"answer\": [ANSWER_TEXT2]},\n",
    "]\n",
    "```\n",
    "\n",
    "These additional fields can be unlimited in number and will be used to help map different parts of the discrete text input to a prompt template that you define. We will show how this mapping works and how to construct your prompt template in the `Prompt Formatting` section. "
   ]
  },
  {
   "cell_type": "code",
   "execution_count": 3,
   "id": "f492bb16",
   "metadata": {},
   "outputs": [],
   "source": [
    "# You can replace DATA_DIR and NEMO_DIR with your own locations\n",
    "DATA_DIR = \"../data\"\n",
    "NEMO_DIR = '/mnt/ngc' # Note this directory is a Workbench volume mount\n",
    "\n",
    "os.makedirs(DATA_DIR, exist_ok=True)\n",
    "os.makedirs(NEMO_DIR, exist_ok=True)"
   ]
  },
  {
   "cell_type": "markdown",
   "id": "95fadaf9",
   "metadata": {},
   "source": [
    "\n",
    "For each dataset we have preprocessing scripts pre-written in NeMo's example directory located in `examples/nlp`. Let's download those now. "
   ]
  },
  {
   "cell_type": "code",
   "execution_count": 4,
   "id": "408731e4",
   "metadata": {},
   "outputs": [
    {
     "data": {
      "text/plain": [
       "'/mnt/ngc/prompt_learning_squad_preprocessing (1).py'"
      ]
     },
     "execution_count": 4,
     "metadata": {},
     "output_type": "execute_result"
    }
   ],
   "source": [
    "# download the preprocessing scripts from github for the purpose of this tutorial\n",
    "wget.download(f'https://raw.githubusercontent.com/NVIDIA/NeMo/{BRANCH}/scripts/dataset_processing/nlp/squad/prompt_learning_squad_preprocessing.py', NEMO_DIR)"
   ]
  },
  {
   "cell_type": "markdown",
   "id": "b87a6a6a",
   "metadata": {},
   "source": [
    "Now let's down load and process the dataset."
   ]
  },
  {
   "cell_type": "markdown",
   "id": "b5b4a439",
   "metadata": {},
   "source": [
    "### SQuAD Dataset"
   ]
  },
  {
   "cell_type": "code",
   "execution_count": 5,
   "id": "9c272414",
   "metadata": {},
   "outputs": [
    {
     "name": "stdout",
     "output_type": "stream",
     "text": [
      "--2023-10-04 20:23:08--  https://rajpurkar.github.io/SQuAD-explorer/dataset/train-v1.1.json\n",
      "Resolving rajpurkar.github.io (rajpurkar.github.io)... 185.199.108.153, 185.199.110.153, 185.199.111.153, ...\n",
      "Connecting to rajpurkar.github.io (rajpurkar.github.io)|185.199.108.153|:443... connected.\n",
      "HTTP request sent, awaiting response... 200 OK\n",
      "Length: 30288272 (29M) [application/json]\n",
      "Saving to: ‘train-v1.1.json’\n",
      "\n",
      "train-v1.1.json     100%[===================>]  28.88M  77.4MB/s    in 0.4s    \n",
      "\n",
      "2023-10-04 20:23:09 (77.4 MB/s) - ‘train-v1.1.json’ saved [30288272/30288272]\n",
      "\n",
      "--2023-10-04 20:23:09--  https://rajpurkar.github.io/SQuAD-explorer/dataset/dev-v1.1.json\n",
      "Resolving rajpurkar.github.io (rajpurkar.github.io)... 185.199.109.153, 185.199.108.153, 185.199.111.153, ...\n",
      "Connecting to rajpurkar.github.io (rajpurkar.github.io)|185.199.109.153|:443... connected.\n",
      "HTTP request sent, awaiting response... 200 OK\n",
      "Length: 4854279 (4.6M) [application/json]\n",
      "Saving to: ‘dev-v1.1.json’\n",
      "\n",
      "dev-v1.1.json       100%[===================>]   4.63M  --.-KB/s    in 0.1s    \n",
      "\n",
      "2023-10-04 20:23:09 (44.3 MB/s) - ‘dev-v1.1.json’ saved [4854279/4854279]\n",
      "\n"
     ]
    }
   ],
   "source": [
    "SQUAD_DIR = os.path.join(DATA_DIR, \"SQuAD\")\n",
    "os.makedirs(SQUAD_DIR, exist_ok=True)\n",
    "\n",
    "# Download the SQuAD dataset\n",
    "!wget https://rajpurkar.github.io/SQuAD-explorer/dataset/train-v1.1.json\n",
    "!wget https://rajpurkar.github.io/SQuAD-explorer/dataset/dev-v1.1.json\n",
    "!mv train-v1.1.json {SQUAD_DIR}\n",
    "!mv dev-v1.1.json {SQUAD_DIR}"
   ]
  },
  {
   "cell_type": "code",
   "execution_count": 6,
   "id": "89ff3477",
   "metadata": {},
   "outputs": [
    {
     "name": "stdout",
     "output_type": "stream",
     "text": [
      "Saving train split to ../data/SQuAD/squad_train.jsonl\n",
      "100%|█████████████████████████████████| 87599/87599 [00:00<00:00, 141541.07it/s]\n",
      "Saving val split to ../data/SQuAD/squad_val.jsonl\n",
      "100%|█████████████████████████████████| 10570/10570 [00:00<00:00, 137888.14it/s]\n",
      "Saving test split to ../data/SQuAD/squad_test_ground_truth.jsonl\n",
      "100%|█████████████████████████████████| 10570/10570 [00:00<00:00, 126490.89it/s]\n",
      "Saving test split to ../data/SQuAD/squad_test.jsonl\n",
      "100%|█████████████████████████████████| 10570/10570 [00:00<00:00, 140459.94it/s]\n"
     ]
    }
   ],
   "source": [
    "# Preprocess squad data\n",
    "!python $NEMO_DIR/prompt_learning_squad_preprocessing.py --data-dir {SQUAD_DIR}"
   ]
  },
  {
   "cell_type": "code",
   "execution_count": 7,
   "id": "4d242aec",
   "metadata": {},
   "outputs": [
    {
     "name": "stdout",
     "output_type": "stream",
     "text": [
      "{\"taskname\": \"squad\", \"context\": \"Architecturally, the school has a Catholic character. Atop the Main Building's gold dome is a golden statue of the Virgin Mary. Immediately in front of the Main Building and facing it, is a copper statue of Christ with arms upraised with the legend \\\"Venite Ad Me Omnes\\\". Next to the Main Building is the Basilica of the Sacred Heart. Immediately behind the basilica is the Grotto, a Marian place of prayer and reflection. It is a replica of the grotto at Lourdes, France where the Virgin Mary reputedly appeared to Saint Bernadette Soubirous in 1858. At the end of the main drive (and in a direct line that connects through 3 statues and the Gold Dome), is a simple, modern stone statue of Mary.\", \"question\": \"To whom did the Virgin Mary allegedly appear in 1858 in Lourdes France?\", \"answer\": \"Saint Bernadette Soubirous\"}\n",
      "{\"taskname\": \"squad\", \"context\": \"Architecturally, the school has a Catholic character. Atop the Main Building's gold dome is a golden statue of the Virgin Mary. Immediately in front of the Main Building and facing it, is a copper statue of Christ with arms upraised with the legend \\\"Venite Ad Me Omnes\\\". Next to the Main Building is the Basilica of the Sacred Heart. Immediately behind the basilica is the Grotto, a Marian place of prayer and reflection. It is a replica of the grotto at Lourdes, France where the Virgin Mary reputedly appeared to Saint Bernadette Soubirous in 1858. At the end of the main drive (and in a direct line that connects through 3 statues and the Gold Dome), is a simple, modern stone statue of Mary.\", \"question\": \"What is in front of the Notre Dame Main Building?\", \"answer\": \"a copper statue of Christ\"}\n",
      "{\"taskname\": \"squad\", \"context\": \"Architecturally, the school has a Catholic character. Atop the Main Building's gold dome is a golden statue of the Virgin Mary. Immediately in front of the Main Building and facing it, is a copper statue of Christ with arms upraised with the legend \\\"Venite Ad Me Omnes\\\". Next to the Main Building is the Basilica of the Sacred Heart. Immediately behind the basilica is the Grotto, a Marian place of prayer and reflection. It is a replica of the grotto at Lourdes, France where the Virgin Mary reputedly appeared to Saint Bernadette Soubirous in 1858. At the end of the main drive (and in a direct line that connects through 3 statues and the Gold Dome), is a simple, modern stone statue of Mary.\", \"question\": \"The Basilica of the Sacred heart at Notre Dame is beside to which structure?\", \"answer\": \"the Main Building\"}\n",
      "{\"taskname\": \"squad\", \"context\": \"Architecturally, the school has a Catholic character. Atop the Main Building's gold dome is a golden statue of the Virgin Mary. Immediately in front of the Main Building and facing it, is a copper statue of Christ with arms upraised with the legend \\\"Venite Ad Me Omnes\\\". Next to the Main Building is the Basilica of the Sacred Heart. Immediately behind the basilica is the Grotto, a Marian place of prayer and reflection. It is a replica of the grotto at Lourdes, France where the Virgin Mary reputedly appeared to Saint Bernadette Soubirous in 1858. At the end of the main drive (and in a direct line that connects through 3 statues and the Gold Dome), is a simple, modern stone statue of Mary.\", \"question\": \"What is the Grotto at Notre Dame?\", \"answer\": \"a Marian place of prayer and reflection\"}\n"
     ]
    }
   ],
   "source": [
    "# What the squad dataset looks like after processing\n",
    "!head -4 $SQUAD_DIR/squad_train.jsonl"
   ]
  },
  {
   "cell_type": "markdown",
   "id": "7c8143d9",
   "metadata": {},
   "source": [
    "## Notes\n",
    "We made a `.jsonl` file for each of the train, validation, and testing splits of the squad data. Every `.jsonl` file contains json objects with the fields `taskname`, `context`, `question`, and `answer`. The preprocessing script is called `prompt_learning_squad_preprocessing.py`. It should be in your `NEMO_DIR` and at `scripts/dataset_processing/nlp/squad/prompt_learning_squad_preprocessing.py` in the NeMo repo. \n",
    "\n",
    "The SQuAD dataset consists of various topics like `Beyoncé`, `IPod`, and `Symbiosis`. Each topic has several paragraphs associated with it, and each paragraph has several questions and answers related to it. When we separated the train/validation/test splits, we separated them on the topic level. For example, if the training set contains paragraphs and questions about the topic `Beyoncé`, neither the validation nor test sets will contain any questions on this topic. All questions about a certain topic are isolated to one split of the data. \n",
    "\n",
    "Like the Financial PhraseBank Dataset, we randomly selected 80% of the questions for training, 10% for validation, and 10% for test. This resulted in `69125` test examples, `8952` validation examples, and `8744` testing examples. The `answer` field was removed from test examples.\n",
    "\n",
    "Training on the full train split could take a lot of time, so we are going to clip the train split to 2k examples for the sake of this tutorial, and limit the validation dataset to 200 samples."
   ]
  },
  {
   "cell_type": "code",
   "execution_count": 8,
   "id": "1634ab44",
   "metadata": {},
   "outputs": [],
   "source": [
    "! head -2000 $SQUAD_DIR/squad_train.jsonl > $SQUAD_DIR/squad_short_train.jsonl\n",
    "! head -200 $SQUAD_DIR/squad_val.jsonl > $SQUAD_DIR/squad_short_val.jsonl\n"
   ]
  },
  {
   "cell_type": "markdown",
   "id": "ad8b529a",
   "metadata": {},
   "source": [
    "# P-Tuning Model Config Setup\n",
    "\n",
    "Now we will begin setting up the config file used for prompt/p-tuning our GPT models! GPT Prompt learning within NeMo uses a class called `MegatronGPTPromptLearningModel` which has its own config file. We will start by loading an example prompt learning config file, then make changes to it to fit our tasks and training plans. "
   ]
  },
  {
   "cell_type": "code",
   "execution_count": 9,
   "id": "3bc4148a",
   "metadata": {},
   "outputs": [],
   "source": [
    "from omegaconf import OmegaConf\n",
    "\n",
    "CONFIG_DIR = \"../models/conf\"\n",
    "os.makedirs(CONFIG_DIR, exist_ok=True)\n",
    "\n",
    "# Load the example config file so we can start editing it\n",
    "CONFIG_PATH = os.path.join(CONFIG_DIR, \"megatron_gpt_prompt_learning_config.yaml\")\n",
    "config = OmegaConf.load(CONFIG_PATH)"
   ]
  },
  {
   "cell_type": "markdown",
   "id": "69355a44",
   "metadata": {},
   "source": [
    "First let's set the datasets we've created in the config. We are going to start by p-tuning a GPT model on a small subset of the **Squad** task. We do this by setting the following config params below: "
   ]
  },
  {
   "cell_type": "code",
   "execution_count": 10,
   "id": "dcec3ab7",
   "metadata": {},
   "outputs": [],
   "source": [
    "config.model.data.train_ds = [f\"{SQUAD_DIR}/squad_short_train.jsonl\"]\n",
    "config.model.data.validation_ds = [f\"{SQUAD_DIR}/squad_short_val.jsonl\"]"
   ]
  },
  {
   "cell_type": "markdown",
   "id": "9e01dc43",
   "metadata": {},
   "source": [
    "### Prompt Formatting\n",
    "Now that we have our dataset, lets define what we want the prompt to look like. \n",
    "\n",
    "The squad dataset json files contain fields named \"context\", \"question\" and \"answer\". The prompt formatting template allows us to arrange these fields and decide where to insert virtual prompts. We can add the `<|VIRTUAL_PROMPT_0|>` token anywhere between the fields (although we recommend simply adding it in the leftmost position will be sufficient).\n",
    "\n",
    "For example, given a data jsonl file with examples like this: \n",
    "\n",
    "\n",
    "**{\"taskname\": \"squad\", \"context\": \"Super Bowl 50 was an American football ga... numerals 50.\", \"question\": \"What does AFC stand for?\", \"answer\": \"American Football Conference\"}**. \n",
    "\n",
    "\n",
    "We can create a prompt template set to `prompt_template = \"<|VIRTUAL_PROMPT_0|> Context: {context}\\n\\nquestion: {question}\\n\\nanswer: {answer}\"` other options are also possible, for example the `\\n` can be replaced with whitespace or the other of the context and question can be swapped. The answer however, should be at the end.\n",
    "\n",
    "Let's configure the prompt template for the task below:\n"
   ]
  },
  {
   "cell_type": "code",
   "execution_count": 11,
   "id": "a1d1a358",
   "metadata": {},
   "outputs": [],
   "source": [
    "config.model.task_templates = [\n",
    "    \n",
    "    {\n",
    "        \"taskname\": \"squad\",\n",
    "        \"prompt_template\": \"<|VIRTUAL_PROMPT_0|> Context: {context}\\n\\nQuestion: {question}\\n\\nAnswer:{answer}\",\n",
    "        \"total_virtual_tokens\": 15,\n",
    "        \"virtual_token_splits\": [15],\n",
    "        \"truncate_field\": \"context\",\n",
    "        \"answer_only_loss\": True,\n",
    "        \"answer_field\": \"answer\",\n",
    "    },\n",
    "    \n",
    "]"
   ]
  },
  {
   "cell_type": "markdown",
   "id": "a658e987",
   "metadata": {},
   "source": [
    "Note each `task_template` item has 5 fields. \n",
    "\n",
    "- **`prompt_template`** is a string showing the model where to place virtual tokens and how to map dataset json fields to where they belong in the model prompt. \n",
    "\n",
    "\n",
    "- **`taskname`** refers to the same `taskname` in the dataset json objects. \n",
    "\n",
    "\n",
    "- **`total_virtual_tokens`** specifies the total number of virtual tokens that will be inserted into the model prompt.\n",
    "\n",
    "\n",
    "- **`virtual_token_splits`** specifies the number of virtual tokens that belong at each `<|VIRTUAL_PROMPT_#|>` marker. `virtual_token_splits` values should add up to `total_virtual_tokens`. The number of `virtual_token_splits` should match the number of `<|VIRTUAL_PROMPT_#|>` markers. \n",
    "\n",
    "\n",
    "- **`truncate_field`** specifies which field in the data json to truncate if the length of the input exceeds the maximum sequence length of the model. If `truncate_field` is set to `None`, examples that are too long are simply dropped from the dataset.\n",
    "\n",
    "\n",
    "- **`answer_only_loss`** Whether to limit loss calculation to only the answer portion of the prompt during tuning. `True` Strongly recommended for long prompts, but shorter prompts with single word answers seem to benefit from setting this to `False`. \n",
    "\n",
    "\n",
    "- **`answer_field`** The field in the data json corresponding to the answer. The loss will only be calculated on this portion of the prompt if `answer_only_loss` is `True`. The answer field must be at the end of the prompt template.\n",
    "\n",
    "In the `task_templates` we set above, `squad` has a different number of virtual tokens than `sentiment` and `intent_and_slot`. This is because we will be p-tuning on `squad` after we p-tune on the other two tasks and **we do not need to use the same number of virtual tokens between sessions**. We also set the `truncate` field for squad because the context can sometimes be longer than the model's max sequence length, and we want that field to be truncated if the example is too long. Lastly, we set `answer_only_loss` to true for `squad` due to the longer prompt. We've found `answer_only_loss=True` to work significantly better for this task."
   ]
  },
  {
   "cell_type": "markdown",
   "id": "4d72165b",
   "metadata": {},
   "source": [
    "### Setting New Tasks\n",
    "After you p-tune your model this time, you can always go back and p-tune or prompt-tune your model on more tasks without over writing the virtual prompts who've trained this time. You can also use a different number of `total_virtual_tokens` between each training session as long as tasks p-tuned or prompt tuned at the same time have the same number of `total_virtual_tokens`. For this reason, when you p-tune on a new task, you need to tell your model which of your tasks are new and which ones already exist (and thus you don't want to tune them). \n",
    "\n",
    "You do this by setting the `new_tasks` and `existing_tasks` values in the config file. Because we are p-tuning a model with no existing tasks, you should set `existing_tasks=[]` and `new_tasks=[\"sentiment\", \"intent_and_slot\"]` as follows:"
   ]
  },
  {
   "cell_type": "code",
   "execution_count": 12,
   "id": "0abe1820",
   "metadata": {},
   "outputs": [],
   "source": [
    "config.model.existing_tasks = []\n",
    "config.model.new_tasks = [\"squad\"]"
   ]
  },
  {
   "cell_type": "markdown",
   "id": "0a8e9ef3",
   "metadata": {},
   "source": [
    "After p-tuning and/or prompt tuning is complete, you can run inference on all tasks at the same time, regardless of their `total_virtual_tokens` value."
   ]
  },
  {
   "cell_type": "markdown",
   "id": "efe42c2c",
   "metadata": {},
   "source": [
    "### Setting The Pre-Trained GPT Model\n",
    "We still need to set which GPT model we want to p-tune/prompt tune. Prompt learning methods work best with large GPT language models (5B or above), but the purposes of this tutorial, we are going to download a 345M parameter GPT model from NVIDIA NGC."
   ]
  },
  {
   "cell_type": "code",
   "execution_count": 13,
   "id": "09c30600",
   "metadata": {},
   "outputs": [
    {
     "name": "stdout",
     "output_type": "stream",
     "text": [
      "NOTE! Installing ujson may make loading annotations faster.\n"
     ]
    },
    {
     "data": {
      "text/plain": [
       "[PretrainedModelInfo(\n",
       " \tpretrained_model_name=megatron_gpt_345m,\n",
       " \tdescription=345M parameter GPT generative Megatron model.,\n",
       " \tlocation=https://api.ngc.nvidia.com/v2/models/nvidia/nemo/megatron_gpt_345m/versions/1/files/megatron_gpt_345m.nemo\n",
       " )]"
      ]
     },
     "execution_count": 13,
     "metadata": {},
     "output_type": "execute_result"
    }
   ],
   "source": [
    "# Check what GPT .nemo models we have available on NGC\n",
    "from nemo.collections.nlp.models.language_modeling.megatron_gpt_model import MegatronGPTModel\n",
    "MegatronGPTModel.list_available_models()"
   ]
  },
  {
   "cell_type": "markdown",
   "id": "9595fedd",
   "metadata": {},
   "source": [
    "If we wanted to use the GPT model class directly, we could instantiate a trainer then download the model by calling running \n",
    "`gpt_model = MegatronGPTModel.from_pretrained(model_name=\"megatron_gpt_345m\", trainer=trainer).cuda()`. But we just need the `.nemo` file in our working NeMo directory in this tutorial, so we will download it using `wget`. "
   ]
  },
  {
   "cell_type": "code",
   "execution_count": 14,
   "id": "998a08c0",
   "metadata": {
    "scrolled": true
   },
   "outputs": [
    {
     "name": "stdout",
     "output_type": "stream",
     "text": [
      "File ‘/mnt/ngc/megatron_gpt_345m.nemo’ already there; not retrieving.\n"
     ]
    }
   ],
   "source": [
    "# Download the model from NGC\n",
    "gpt_file_name = \"megatron_gpt_345m.nemo\"\n",
    "!wget  -nc --content-disposition https://api.ngc.nvidia.com/v2/models/nvidia/nemo/megatron_gpt_345m/versions/1/files/megatron_gpt_345m.nemo -O {NEMO_DIR}/{gpt_file_name}"
   ]
  },
  {
   "cell_type": "markdown",
   "id": "90d6de46",
   "metadata": {},
   "source": [
    "Now that we have a `.nemo` GPT file to work with. We need to add its path in our prompt learning config. "
   ]
  },
  {
   "cell_type": "code",
   "execution_count": 15,
   "id": "cf038894",
   "metadata": {},
   "outputs": [],
   "source": [
    "# Set GPT model path on prompt learning config\n",
    "config.model.language_model_path = NEMO_DIR + \"/\" + gpt_file_name"
   ]
  },
  {
   "cell_type": "markdown",
   "id": "813ddc37",
   "metadata": {},
   "source": [
    "We can also set where we want the final prompt tuned model to be saved by setting `model.nemo_path`. By default the tuned prompt learning model will be saved in your current working directory to a `.nemo` file with the same name as your experiment (`config.name`). Let's change the save name to be `p_tuned_gpt.nemo`. **Your model path must end in `.nemo`.**"
   ]
  },
  {
   "cell_type": "code",
   "execution_count": 16,
   "id": "75aec253",
   "metadata": {},
   "outputs": [],
   "source": [
    "config.exp_manager.checkpoint_callback_params.save_nemo_on_train_end= True\n",
    "config.exp_manager.checkpoint_callback_params.always_save_nemo= True\n",
    "config.exp_manager.checkpoint_callback_params.save_best_model= True"
   ]
  },
  {
   "cell_type": "markdown",
   "id": "aa64506d",
   "metadata": {},
   "source": [
    "### Setting P-Tuning Specific Params\n",
    "Within the config file, p-tuning and prompt-tuning each have a couple of hyperparameters specific to them. We first need to tell the model that we want to do p-tuning, not prompt-tuning. To do this, we set the **`model.virtual_prompt_style`** hyperparameter like this:"
   ]
  },
  {
   "cell_type": "code",
   "execution_count": 17,
   "id": "e38eb1b1",
   "metadata": {},
   "outputs": [],
   "source": [
    "from nemo.collections.nlp.modules.common import VirtualPromptStyle\n",
    "config.model.virtual_prompt_style = VirtualPromptStyle.P_TUNING"
   ]
  },
  {
   "cell_type": "markdown",
   "id": "c4a0d7be",
   "metadata": {},
   "source": [
    "Then we can set the 2 p-tuning specific parameters. Reminder, p-tuning uses an LSTM prompt encoder to predict virtual tokens. \n",
    "\n",
    "- **`p_tuning.dropout`** the LSTM prompt encoder dropout probability \n",
    "- **`p_tuning.num_layers`** the number of LSTM layers you want your p-tuning prompt encoder to have\n"
   ]
  },
  {
   "cell_type": "code",
   "execution_count": 18,
   "id": "230c4ca4",
   "metadata": {},
   "outputs": [],
   "source": [
    "config.model.p_tuning.dropout = 0.0\n",
    "config.model.p_tuning.num_layers = 2\n",
    "config.model.global_batch_size = 2\n",
    "config.model.micro_batch_size = 1"
   ]
  },
  {
   "cell_type": "markdown",
   "id": "783ccd33",
   "metadata": {},
   "source": [
    "Let's have a look at all the values we've set in the model config. You can change any of these values in the same manner we've been using above. "
   ]
  },
  {
   "cell_type": "code",
   "execution_count": 19,
   "id": "03d6a3a7",
   "metadata": {
    "scrolled": true
   },
   "outputs": [
    {
     "name": "stdout",
     "output_type": "stream",
     "text": [
      "seed: 1234\n",
      "nemo_path: ${name}.nemo\n",
      "virtual_prompt_style: P_TUNING\n",
      "tensor_model_parallel_size: 1\n",
      "pipeline_model_parallel_size: 1\n",
      "global_batch_size: 2\n",
      "micro_batch_size: 1\n",
      "validation_global_batch_size: ${model.global_batch_size}\n",
      "validation_micro_batch_size: ${model.micro_batch_size}\n",
      "validation_drop_last: false\n",
      "report_validation_metric: false\n",
      "validation_metric: accuracy\n",
      "restore_path: null\n",
      "language_model_path: /mnt/ngc/megatron_gpt_345m.nemo\n",
      "save_nemo_on_validation_end: true\n",
      "existing_tasks: []\n",
      "new_tasks:\n",
      "- squad\n",
      "sequence_parallel: false\n",
      "activations_checkpoint_granularity: null\n",
      "activations_checkpoint_method: null\n",
      "activations_checkpoint_num_layers: null\n",
      "task_templates:\n",
      "- taskname: squad\n",
      "  prompt_template: '<|VIRTUAL_PROMPT_0|> Context: {context}\n",
      "\n",
      "\n",
      "    Question: {question}\n",
      "\n",
      "\n",
      "    Answer:{answer}'\n",
      "  total_virtual_tokens: 15\n",
      "  virtual_token_splits:\n",
      "  - 15\n",
      "  truncate_field: context\n",
      "  answer_only_loss: true\n",
      "  answer_field: answer\n",
      "prompt_tuning:\n",
      "  new_prompt_init_methods:\n",
      "  - text\n",
      "  new_prompt_init_text:\n",
      "  - some init text goes here\n",
      "p_tuning:\n",
      "  encoder_type: tpmlp\n",
      "  dropout: 0.0\n",
      "  num_layers: 2\n",
      "  encoder_hidden: 2048\n",
      "  init_std: 0.023\n",
      "data:\n",
      "  train_ds:\n",
      "  - ../data/SQuAD/squad_short_train.jsonl\n",
      "  validation_ds:\n",
      "  - ../data/SQuAD/squad_short_val.jsonl\n",
      "  add_eos: true\n",
      "  shuffle: true\n",
      "  num_workers: 8\n",
      "  pin_memory: true\n",
      "  train_cache_data_path: null\n",
      "  validation_cache_data_path: null\n",
      "  test_cache_data_path: null\n",
      "  load_cache: false\n",
      "  max_seq_length: 1024\n",
      "  min_seq_length: 1\n",
      "optim:\n",
      "  name: fused_adam\n",
      "  lr: 0.0001\n",
      "  weight_decay: 0.01\n",
      "  betas:\n",
      "  - 0.9\n",
      "  - 0.98\n",
      "  sched:\n",
      "    name: CosineAnnealing\n",
      "    warmup_steps: 50\n",
      "    min_lr: 0.0\n",
      "    constant_steps: 0\n",
      "    monitor: val_loss\n",
      "    reduce_on_plateau: false\n",
      "inference:\n",
      "  greedy: false\n",
      "  top_k: 0\n",
      "  top_p: 0.9\n",
      "  temperature: 1.0\n",
      "  tokens_to_generate: 30\n",
      "  repetition_penalty: 1.2\n",
      "  min_tokens_to_generate: 0\n",
      "\n"
     ]
    }
   ],
   "source": [
    "# Final model config\n",
    "print(OmegaConf.to_yaml(config.model))"
   ]
  },
  {
   "cell_type": "markdown",
   "id": "e712f567",
   "metadata": {},
   "source": [
    "### Setting Prompt-Tuning Specific Params\n",
    "\n",
    "Though we are not using prompt tuning in this training session, let's go over the prompt tuning specific parameters we would use if we were. \n",
    "\n",
    "- **`prompt_tuning.new_prompt_init_methods`** Whether you want to initialize virtual token embeddings from the embeddings of existing parts of the model's vocabulary (either 'text' or 'random')\n",
    "- **`prompt_tuning.new_prompt_init_text`** The text you want to use if you have 'text' in the list above, should be None otherwise. \n",
    "\n",
    "Each of the above hyperparameters are a list of strings. \n",
    "\n",
    "`new_prompt_init_methods` would look like `[\"text\", \"random\", \"text\", \"text\"]` if you were prompt tuning on 4 tasks at once, and you wanted the second task in `new_tasks` to use random initialization. \n",
    "\n",
    "`new_prompt_init_text` might look like `[\"some text I want to use\", None, \"some other text\", \"task text goes here\"]` for those four new tasks. \n",
    "\n",
    "The order of both should correspond to the order of the tasks you have listed in `model.new_tasks`. "
   ]
  },
  {
   "cell_type": "markdown",
   "id": "b36ae014",
   "metadata": {},
   "source": [
    "# Building the PyTorch Lightning Trainer\n",
    "NeMo models are primarily PyTorch Lightning modules - and therefore are entirely compatible with the PyTorch Lightning ecosystem.\n",
    "\n",
    "Let's first instantiate a Trainer object"
   ]
  },
  {
   "cell_type": "code",
   "execution_count": 20,
   "id": "ba0a1757",
   "metadata": {},
   "outputs": [
    {
     "name": "stderr",
     "output_type": "stream",
     "text": [
      "Using 16bit None Automatic Mixed Precision (AMP)\n",
      "GPU available: True (cuda), used: True\n",
      "TPU available: False, using: 0 TPU cores\n",
      "IPU available: False, using: 0 IPUs\n",
      "HPU available: False, using: 0 HPUs\n",
      "`Trainer(val_check_interval=1.0)` was configured so validation will run at the end of the training epoch..\n"
     ]
    },
    {
     "name": "stdout",
     "output_type": "stream",
     "text": [
      "Trainer config - \n",
      "\n",
      "devices: 1\n",
      "accelerator: gpu\n",
      "num_nodes: 1\n",
      "precision: 16\n",
      "logger: false\n",
      "enable_checkpointing: false\n",
      "max_epochs: 4\n",
      "max_steps: -1\n",
      "log_every_n_steps: 10\n",
      "val_check_interval: 1.0\n",
      "gradient_clip_val: 1.0\n",
      "benchmark: false\n",
      "\n"
     ]
    }
   ],
   "source": [
    "import torch\n",
    "import pytorch_lightning as pl\n",
    "from nemo.collections.nlp.parts.nlp_overrides import NLPDDPStrategy\n",
    "from pytorch_lightning.plugins.environments import TorchElasticEnvironment\n",
    "\n",
    "# let's modify some trainer configs\n",
    "# check if we have GPU available and uses it\n",
    "accelerator = 'gpu' if torch.cuda.is_available() else 'cpu'\n",
    "config.trainer.accelerator = accelerator\n",
    "config.trainer.devices = 1\n",
    "config.trainer.max_epochs = 4\n",
    "config.trainer.val_check_interval = 1.0\n",
    "\n",
    "# for PyTorch Native AMP set precision=16\n",
    "config.trainer.precision = 16 if torch.cuda.is_available() else 32\n",
    "\n",
    "# setup cluster environment parameters\"\n",
    "# use torch elastic cluster environment so `create_process_externally` is True\n",
    "# the launcher is set to None. It will not try to spawn new processes.\n",
    "# It won't create the misconfiguration error because of the `interactive session`\n",
    "os.environ[\"LOCAL_RANK\"] = '0'\n",
    "os.environ[\"RANK\"] = '0'\n",
    "os.environ[\"WORLD_SIZE\"] = '1'\n",
    "\n",
    "strategy = NLPDDPStrategy(find_unused_parameters=False, no_ddp_communication_hook=True)\n",
    "plugins = [TorchElasticEnvironment()]\n",
    "trainer = pl.Trainer(plugins= plugins, strategy=strategy, **config.trainer)\n",
    "\n",
    "print(\"Trainer config - \\n\")\n",
    "print(OmegaConf.to_yaml(config.trainer))"
   ]
  },
  {
   "cell_type": "markdown",
   "id": "31605751",
   "metadata": {},
   "source": [
    "# Setting up a NeMo Experiment\n",
    "\n",
    "NeMo has an experiment manager that handles logging and checkpointing for us, so let's use it:"
   ]
  },
  {
   "cell_type": "code",
   "execution_count": 21,
   "id": "49f5d22b",
   "metadata": {},
   "outputs": [
    {
     "name": "stdout",
     "output_type": "stream",
     "text": [
      "[NeMo I 2023-10-04 20:23:24 exp_manager:374] Experiments will be logged at /project/code/nemo_experiments/p_tuning/2023-10-04_20-23-24\n",
      "[NeMo I 2023-10-04 20:23:24 exp_manager:797] TensorboardLogger has been set up\n",
      "/project/code/nemo_experiments/p_tuning/2023-10-04_20-23-24\n"
     ]
    }
   ],
   "source": [
    "from nemo.utils.exp_manager import exp_manager\n",
    "\n",
    "# Set name of the experiment \n",
    "config.name = 'p_tuning'\n",
    "config.exp_manager.resume_if_exists = False\n",
    "\n",
    "# Init the experiment manager and view the exp_dir\n",
    "exp_dir = exp_manager(trainer, config.get(\"exp_manager\", None))\n",
    "exp_dir = str(exp_dir)\n",
    "print(exp_dir)"
   ]
  },
  {
   "cell_type": "markdown",
   "id": "528eb9ae",
   "metadata": {},
   "source": [
    "We can also set learning hyperparameters as follows:"
   ]
  },
  {
   "cell_type": "code",
   "execution_count": 22,
   "id": "dad0e51e",
   "metadata": {},
   "outputs": [],
   "source": [
    "# Set some of the learning parameters\n",
    "config.model.optim.lr = 1e-4\n",
    "config.model.precision = config.trainer.precision"
   ]
  },
  {
   "cell_type": "markdown",
   "id": "cdf93384",
   "metadata": {},
   "source": [
    "# First P-Tuning Session\n",
    "The only thing left to do is load up the model and begin p-tuning!"
   ]
  },
  {
   "cell_type": "code",
   "execution_count": 23,
   "id": "aa5ee161",
   "metadata": {},
   "outputs": [
    {
     "name": "stdout",
     "output_type": "stream",
     "text": [
      "[NeMo I 2023-10-04 20:23:26 megatron_init:234] Rank 0 has data parallel group: [0]\n",
      "[NeMo I 2023-10-04 20:23:26 megatron_init:237] All data parallel group ranks: [[0]]\n",
      "[NeMo I 2023-10-04 20:23:26 megatron_init:238] Ranks 0 has data parallel rank: 0\n",
      "[NeMo I 2023-10-04 20:23:26 megatron_init:246] Rank 0 has model parallel group: [0]\n",
      "[NeMo I 2023-10-04 20:23:26 megatron_init:247] All model parallel group ranks: [[0]]\n",
      "[NeMo I 2023-10-04 20:23:26 megatron_init:257] Rank 0 has tensor model parallel group: [0]\n",
      "[NeMo I 2023-10-04 20:23:26 megatron_init:261] All tensor model parallel group ranks: [[0]]\n",
      "[NeMo I 2023-10-04 20:23:26 megatron_init:262] Rank 0 has tensor model parallel rank: 0\n",
      "[NeMo I 2023-10-04 20:23:26 megatron_init:276] Rank 0 has pipeline model parallel group: [0]\n",
      "[NeMo I 2023-10-04 20:23:26 megatron_init:288] Rank 0 has embedding group: [0]\n",
      "[NeMo I 2023-10-04 20:23:26 megatron_init:294] All pipeline model parallel group ranks: [[0]]\n",
      "[NeMo I 2023-10-04 20:23:26 megatron_init:295] Rank 0 has pipeline model parallel rank 0\n",
      "[NeMo I 2023-10-04 20:23:26 megatron_init:296] All embedding group ranks: [[0]]\n",
      "[NeMo I 2023-10-04 20:23:26 megatron_init:297] Rank 0 has embedding rank: 0\n",
      "[NeMo I 2023-10-04 20:23:27 megatron_init:234] Rank 0 has data parallel group: [0]\n",
      "[NeMo I 2023-10-04 20:23:27 megatron_init:237] All data parallel group ranks: [[0]]\n",
      "[NeMo I 2023-10-04 20:23:27 megatron_init:238] Ranks 0 has data parallel rank: 0\n",
      "[NeMo I 2023-10-04 20:23:27 megatron_init:246] Rank 0 has model parallel group: [0]\n",
      "[NeMo I 2023-10-04 20:23:27 megatron_init:247] All model parallel group ranks: [[0]]\n",
      "[NeMo I 2023-10-04 20:23:27 megatron_init:257] Rank 0 has tensor model parallel group: [0]\n",
      "[NeMo I 2023-10-04 20:23:27 megatron_init:261] All tensor model parallel group ranks: [[0]]\n",
      "[NeMo I 2023-10-04 20:23:27 megatron_init:262] Rank 0 has tensor model parallel rank: 0\n",
      "[NeMo I 2023-10-04 20:23:27 megatron_init:276] Rank 0 has pipeline model parallel group: [0]\n",
      "[NeMo I 2023-10-04 20:23:27 megatron_init:288] Rank 0 has embedding group: [0]\n",
      "[NeMo I 2023-10-04 20:23:27 megatron_init:294] All pipeline model parallel group ranks: [[0]]\n",
      "[NeMo I 2023-10-04 20:23:27 megatron_init:295] Rank 0 has pipeline model parallel rank 0\n",
      "[NeMo I 2023-10-04 20:23:27 megatron_init:296] All embedding group ranks: [[0]]\n",
      "[NeMo I 2023-10-04 20:23:27 megatron_init:297] Rank 0 has embedding rank: 0\n"
     ]
    },
    {
     "name": "stderr",
     "output_type": "stream",
     "text": [
      "[NeMo W 2023-10-04 20:23:27 modelPT:244] You tried to register an artifact under config key=tokenizer.vocab_file but an artifact for it has already been registered.\n"
     ]
    },
    {
     "name": "stdout",
     "output_type": "stream",
     "text": [
      "[NeMo I 2023-10-04 20:23:27 tokenizer_utils:204] Getting Megatron tokenizer for pretrained model name: megatron-gpt-345m, custom vocab file: /tmp/tmpgf1ry67z/bfcdca5e44814366bdb5dcd651325152_gpt2-vocab.json, and merges file: /tmp/tmpgf1ry67z/315a11fd68be49d6abdb34363e8c4997_gpt2-merge.txt\n",
      "[NeMo I 2023-10-04 20:23:27 tokenizer_utils:130] Getting HuggingFace AutoTokenizer with pretrained_model_name: gpt2, vocab_file: /tmp/tmpgf1ry67z/bfcdca5e44814366bdb5dcd651325152_gpt2-vocab.json, merges_files: /tmp/tmpgf1ry67z/315a11fd68be49d6abdb34363e8c4997_gpt2-merge.txt, special_tokens_dict: {}, and use_fast: False\n"
     ]
    },
    {
     "data": {
      "application/vnd.jupyter.widget-view+json": {
       "model_id": "08ea3f1bfe414018aa2ff53d298825b0",
       "version_major": 2,
       "version_minor": 0
      },
      "text/plain": [
       "Downloading (…)lve/main/config.json:   0%|          | 0.00/665 [00:00<?, ?B/s]"
      ]
     },
     "metadata": {},
     "output_type": "display_data"
    },
    {
     "data": {
      "application/vnd.jupyter.widget-view+json": {
       "model_id": "b279d9c29e394856bc1a1aff7378b45f",
       "version_major": 2,
       "version_minor": 0
      },
      "text/plain": [
       "Downloading (…)olve/main/vocab.json:   0%|          | 0.00/1.04M [00:00<?, ?B/s]"
      ]
     },
     "metadata": {},
     "output_type": "display_data"
    },
    {
     "name": "stderr",
     "output_type": "stream",
     "text": [
      "Using sep_token, but it is not set yet.\n",
      "Using cls_token, but it is not set yet.\n",
      "Using pad_token, but it is not set yet.\n",
      "Using mask_token, but it is not set yet.\n"
     ]
    },
    {
     "name": "stdout",
     "output_type": "stream",
     "text": [
      "[NeMo I 2023-10-04 20:23:29 megatron_base_model:264] Padded vocab_size: 50304, original vocab_size: 50257, dummy tokens: 47.\n",
      "[NeMo I 2023-10-04 20:23:31 nlp_overrides:401] Model MegatronGPTModel was successfully restored from /mnt/ngc/megatron_gpt_345m.nemo.\n",
      "[NeMo I 2023-10-04 20:23:31 auto_tokenizer:172] 15 special tokens added, resize your model accordingly.\n"
     ]
    },
    {
     "name": "stderr",
     "output_type": "stream",
     "text": [
      "Using pad_token, but it is not set yet.\n",
      "Using mask_token, but it is not set yet.\n"
     ]
    },
    {
     "name": "stdout",
     "output_type": "stream",
     "text": [
      "[NeMo I 2023-10-04 20:23:32 megatron_init:234] Rank 0 has data parallel group: [0]\n",
      "[NeMo I 2023-10-04 20:23:32 megatron_init:237] All data parallel group ranks: [[0]]\n",
      "[NeMo I 2023-10-04 20:23:32 megatron_init:238] Ranks 0 has data parallel rank: 0\n",
      "[NeMo I 2023-10-04 20:23:32 megatron_init:246] Rank 0 has model parallel group: [0]\n",
      "[NeMo I 2023-10-04 20:23:32 megatron_init:247] All model parallel group ranks: [[0]]\n",
      "[NeMo I 2023-10-04 20:23:32 megatron_init:257] Rank 0 has tensor model parallel group: [0]\n",
      "[NeMo I 2023-10-04 20:23:32 megatron_init:261] All tensor model parallel group ranks: [[0]]\n",
      "[NeMo I 2023-10-04 20:23:32 megatron_init:262] Rank 0 has tensor model parallel rank: 0\n",
      "[NeMo I 2023-10-04 20:23:32 megatron_init:276] Rank 0 has pipeline model parallel group: [0]\n",
      "[NeMo I 2023-10-04 20:23:32 megatron_init:288] Rank 0 has embedding group: [0]\n",
      "[NeMo I 2023-10-04 20:23:32 megatron_init:294] All pipeline model parallel group ranks: [[0]]\n",
      "[NeMo I 2023-10-04 20:23:32 megatron_init:295] Rank 0 has pipeline model parallel rank 0\n",
      "[NeMo I 2023-10-04 20:23:32 megatron_init:296] All embedding group ranks: [[0]]\n",
      "[NeMo I 2023-10-04 20:23:32 megatron_init:297] Rank 0 has embedding rank: 0\n"
     ]
    },
    {
     "name": "stderr",
     "output_type": "stream",
     "text": [
      "[NeMo W 2023-10-04 20:23:32 modelPT:244] You tried to register an artifact under config key=tokenizer.vocab_file but an artifact for it has already been registered.\n"
     ]
    },
    {
     "name": "stdout",
     "output_type": "stream",
     "text": [
      "[NeMo I 2023-10-04 20:23:32 tokenizer_utils:204] Getting Megatron tokenizer for pretrained model name: megatron-gpt-345m, custom vocab file: /tmp/tmp_p8k_bgs/bfcdca5e44814366bdb5dcd651325152_gpt2-vocab.json, and merges file: /tmp/tmp_p8k_bgs/315a11fd68be49d6abdb34363e8c4997_gpt2-merge.txt\n",
      "[NeMo I 2023-10-04 20:23:32 tokenizer_utils:130] Getting HuggingFace AutoTokenizer with pretrained_model_name: gpt2, vocab_file: /tmp/tmp_p8k_bgs/bfcdca5e44814366bdb5dcd651325152_gpt2-vocab.json, merges_files: /tmp/tmp_p8k_bgs/315a11fd68be49d6abdb34363e8c4997_gpt2-merge.txt, special_tokens_dict: {}, and use_fast: False\n"
     ]
    },
    {
     "name": "stderr",
     "output_type": "stream",
     "text": [
      "Using sep_token, but it is not set yet.\n",
      "Using cls_token, but it is not set yet.\n",
      "Using pad_token, but it is not set yet.\n",
      "Using mask_token, but it is not set yet.\n"
     ]
    },
    {
     "name": "stdout",
     "output_type": "stream",
     "text": [
      "[NeMo I 2023-10-04 20:23:32 megatron_base_model:264] Padded vocab_size: 50304, original vocab_size: 50257, dummy tokens: 47.\n",
      "[NeMo I 2023-10-04 20:23:34 nlp_overrides:401] Model MegatronGPTModel was successfully restored from /mnt/ngc/megatron_gpt_345m.nemo.\n",
      "[NeMo I 2023-10-04 20:23:34 auto_tokenizer:172] 15 special tokens added, resize your model accordingly.\n"
     ]
    },
    {
     "name": "stderr",
     "output_type": "stream",
     "text": [
      "Using pad_token, but it is not set yet.\n",
      "Using mask_token, but it is not set yet.\n"
     ]
    }
   ],
   "source": [
    "from nemo.collections.nlp.models.language_modeling.megatron_gpt_prompt_learning_model import MegatronGPTPromptLearningModel\n",
    "\n",
    "model = MegatronGPTPromptLearningModel(cfg=config.model, trainer=trainer)"
   ]
  },
  {
   "cell_type": "code",
   "execution_count": 24,
   "id": "70401b70",
   "metadata": {
    "scrolled": true
   },
   "outputs": [
    {
     "name": "stderr",
     "output_type": "stream",
     "text": [
      "[NeMo W 2023-10-04 20:23:34 nemo_logging:349] /usr/local/lib/python3.10/dist-packages/pytorch_lightning/trainer/configuration_validator.py:175: UserWarning: The `batch_idx` argument in `MegatronGPTPromptLearningModel.on_train_batch_start` hook may not match with the actual batch index when using a `dataloader_iter` argument in your `training_step`.\n",
      "      rank_zero_warn(\n",
      "    \n",
      "[NeMo W 2023-10-04 20:23:34 nemo_logging:349] /usr/local/lib/python3.10/dist-packages/pytorch_lightning/trainer/configuration_validator.py:175: UserWarning: The `batch_idx` argument in `MegatronGPTPromptLearningModel.on_train_batch_end` hook may not match with the actual batch index when using a `dataloader_iter` argument in your `training_step`.\n",
      "      rank_zero_warn(\n",
      "    \n",
      "[NeMo W 2023-10-04 20:23:34 nemo_logging:349] /usr/local/lib/python3.10/dist-packages/lightning_fabric/plugins/environments/torchelastic.py:36: UserWarning: MASTER_ADDR environment variable is not defined. Set as localhost\n",
      "      rank_zero_warn(\"MASTER_ADDR environment variable is not defined. Set as localhost\")\n",
      "    \n",
      "[NeMo W 2023-10-04 20:23:34 nemo_logging:349] /usr/local/lib/python3.10/dist-packages/lightning_fabric/plugins/environments/torchelastic.py:44: UserWarning: MASTER_PORT environment variable is not defined. Set as 12910\n",
      "      rank_zero_warn(\"MASTER_PORT environment variable is not defined. Set as 12910\")\n",
      "    \n",
      "Initializing distributed: GLOBAL_RANK: 0, MEMBER: 1/1\n",
      "----------------------------------------------------------------------------------------------------\n",
      "distributed_backend=nccl\n",
      "All distributed processes registered. Starting with 1 processes\n",
      "----------------------------------------------------------------------------------------------------\n",
      "\n"
     ]
    },
    {
     "name": "stdout",
     "output_type": "stream",
     "text": [
      "[NeMo I 2023-10-04 20:23:35 gpt_prompt_learning_dataset:85] Loading and tokenizing dataset ... \n"
     ]
    },
    {
     "data": {
      "application/vnd.jupyter.widget-view+json": {
       "model_id": "ff39987b56d641dba7529b1f22cdd1b6",
       "version_major": 2,
       "version_minor": 0
      },
      "text/plain": [
       "0it [00:00, ?it/s]"
      ]
     },
     "metadata": {},
     "output_type": "display_data"
    },
    {
     "name": "stdout",
     "output_type": "stream",
     "text": [
      "[NeMo I 2023-10-04 20:23:38 gpt_prompt_learning_dataset:196] Skipped 0 sentences, sequence length too short or too long even after truncation\n",
      "[NeMo I 2023-10-04 20:23:38 gpt_prompt_learning_dataset:85] Loading and tokenizing dataset ... \n"
     ]
    },
    {
     "data": {
      "application/vnd.jupyter.widget-view+json": {
       "model_id": "1dadd730d9b242ab8df8d21a31c2837e",
       "version_major": 2,
       "version_minor": 0
      },
      "text/plain": [
       "0it [00:00, ?it/s]"
      ]
     },
     "metadata": {},
     "output_type": "display_data"
    },
    {
     "name": "stdout",
     "output_type": "stream",
     "text": [
      "[NeMo I 2023-10-04 20:23:38 gpt_prompt_learning_dataset:196] Skipped 0 sentences, sequence length too short or too long even after truncation\n"
     ]
    },
    {
     "name": "stderr",
     "output_type": "stream",
     "text": [
      "LOCAL_RANK: 0 - CUDA_VISIBLE_DEVICES: [0]\n"
     ]
    },
    {
     "name": "stdout",
     "output_type": "stream",
     "text": [
      "[NeMo I 2023-10-04 20:23:38 nlp_overrides:124] Configuring DDP for model parallelism.\n"
     ]
    },
    {
     "name": "stderr",
     "output_type": "stream",
     "text": [
      "[NeMo W 2023-10-04 20:23:38 nemo_logging:349] /usr/local/lib/python3.10/dist-packages/apex/optimizers/fused_adam.py:112: UserWarning: The torch.cuda.*DtypeTensor constructors are no longer recommended. It's best to use methods such as torch.tensor(data, dtype=*, device='cuda') to create tensors. (Triggered internally at /opt/pytorch/pytorch/torch/csrc/tensor/python_tensor.cpp:82.)\n",
      "      self._dummy_overflow_buf = torch.cuda.IntTensor([0])\n",
      "    \n"
     ]
    },
    {
     "name": "stdout",
     "output_type": "stream",
     "text": [
      "[NeMo I 2023-10-04 20:23:38 modelPT:721] Optimizer config = FusedAdam (\n",
      "    Parameter Group 0\n",
      "        betas: [0.9, 0.98]\n",
      "        bias_correction: True\n",
      "        eps: 1e-08\n",
      "        lr: 0.0001\n",
      "        weight_decay: 0.01\n",
      "    )\n",
      "[NeMo I 2023-10-04 20:23:38 lr_scheduler:910] Scheduler \"<nemo.core.optim.lr_scheduler.CosineAnnealing object at 0x7f77e9ae5960>\" \n",
      "    will be used during training (effective maximum steps = 4000) - \n",
      "    Parameters : \n",
      "    (warmup_steps: 50\n",
      "    min_lr: 0.0\n",
      "    constant_steps: 0\n",
      "    max_steps: 4000\n",
      "    )\n"
     ]
    },
    {
     "name": "stderr",
     "output_type": "stream",
     "text": [
      "\n",
      "  | Name            | Type                   | Params\n",
      "-----------------------------------------------------------\n",
      "0 | frozen_model    | MegatronGPTModel       | 354 M \n",
      "1 | word_embeddings | VocabParallelEmbedding | 51.5 M\n",
      "2 | prompt_encoder  | PromptEncoder          | 4.2 M \n",
      "-----------------------------------------------------------\n",
      "4.2 M     Trainable params\n",
      "354 M     Non-trainable params\n",
      "359 M     Total params\n",
      "718.199   Total estimated model params size (MB)\n"
     ]
    },
    {
     "name": "stdout",
     "output_type": "stream",
     "text": [
      "[NeMo I 2023-10-04 20:23:41 megatron_gpt_prompt_learning_model:440] val_loss: 9.186864852905273\n"
     ]
    },
    {
     "name": "stderr",
     "output_type": "stream",
     "text": [
      "[NeMo W 2023-10-04 20:23:41 nemo_logging:349] /usr/local/lib/python3.10/dist-packages/pytorch_lightning/trainer/connectors/logger_connector/result.py:536: PossibleUserWarning: It is recommended to use `self.log('val_loss', ..., sync_dist=True)` when logging on epoch level in distributed setting to accumulate the metric across devices.\n",
      "      warning_cache.warn(\n",
      "    \n",
      "[NeMo W 2023-10-04 20:23:41 nemo_logging:349] /usr/local/lib/python3.10/dist-packages/pytorch_lightning/loops/fit_loop.py:344: UserWarning: Found `dataloader_iter` argument in the `training_step`. Note that the support for this signature is experimental and the behavior is subject to change.\n",
      "      rank_zero_warn(\n",
      "    \n"
     ]
    },
    {
     "data": {
      "application/vnd.jupyter.widget-view+json": {
       "model_id": "c657b777c1334999933101da0cfb1710",
       "version_major": 2,
       "version_minor": 0
      },
      "text/plain": [
       "Training: 0it [00:00, ?it/s]"
      ]
     },
     "metadata": {},
     "output_type": "display_data"
    },
    {
     "name": "stderr",
     "output_type": "stream",
     "text": [
      "[NeMo W 2023-10-04 20:23:43 nemo_logging:349] /usr/local/lib/python3.10/dist-packages/pytorch_lightning/trainer/connectors/logger_connector/result.py:232: UserWarning: You called `self.log('global_step', ...)` in your `training_step` but the value needs to be floating point. Converting it to torch.float32.\n",
      "      warning_cache.warn(\n",
      "    \n",
      "[NeMo W 2023-10-04 20:23:43 nemo_logging:349] /usr/local/lib/python3.10/dist-packages/torch/optim/lr_scheduler.py:139: UserWarning: Detected call of `lr_scheduler.step()` before `optimizer.step()`. In PyTorch 1.1.0 and later, you should call them in the opposite order: `optimizer.step()` before `lr_scheduler.step()`.  Failure to do this will result in PyTorch skipping the first value of the learning rate schedule. See more details at https://pytorch.org/docs/stable/optim.html#how-to-adjust-learning-rate\n",
      "      warnings.warn(\"Detected call of `lr_scheduler.step()` before `optimizer.step()`. \"\n",
      "    \n"
     ]
    },
    {
     "data": {
      "application/vnd.jupyter.widget-view+json": {
       "model_id": "1ab66ff17dce41efbcde67fb4b578085",
       "version_major": 2,
       "version_minor": 0
      },
      "text/plain": [
       "Validation: 0it [00:00, ?it/s]"
      ]
     },
     "metadata": {},
     "output_type": "display_data"
    },
    {
     "name": "stdout",
     "output_type": "stream",
     "text": [
      "[NeMo I 2023-10-04 20:26:27 megatron_gpt_prompt_learning_model:440] val_loss: 0.6447957754135132\n"
     ]
    },
    {
     "name": "stderr",
     "output_type": "stream",
     "text": [
      "Epoch 0, global step 1000: 'val_loss' reached 0.64480 (best 0.64480), saving model to '/project/code/nemo_experiments/p_tuning/2023-10-04_20-23-24/checkpoints/megatron_gpt_prompt_tune--val_loss=0.645-step=1000.ckpt' as top 2\n"
     ]
    },
    {
     "name": "stdout",
     "output_type": "stream",
     "text": [
      "[NeMo I 2023-10-04 20:26:28 nemo_model_checkpoint:168] New best .nemo model saved to: /project/code/nemo_experiments/p_tuning/2023-10-04_20-23-24/checkpoints/p_tuning.nemo\n"
     ]
    },
    {
     "name": "stderr",
     "output_type": "stream",
     "text": [
      "Metric val_loss improved. New best score: 0.645\n"
     ]
    },
    {
     "data": {
      "application/vnd.jupyter.widget-view+json": {
       "model_id": "3882b16f50584849aa1fd6ef8434810f",
       "version_major": 2,
       "version_minor": 0
      },
      "text/plain": [
       "Validation: 0it [00:00, ?it/s]"
      ]
     },
     "metadata": {},
     "output_type": "display_data"
    },
    {
     "name": "stdout",
     "output_type": "stream",
     "text": [
      "[NeMo I 2023-10-04 20:29:11 megatron_gpt_prompt_learning_model:440] val_loss: 0.5836285352706909\n"
     ]
    },
    {
     "name": "stderr",
     "output_type": "stream",
     "text": [
      "Epoch 1, global step 2000: 'val_loss' reached 0.58363 (best 0.58363), saving model to '/project/code/nemo_experiments/p_tuning/2023-10-04_20-23-24/checkpoints/megatron_gpt_prompt_tune--val_loss=0.584-step=2000.ckpt' as top 2\n"
     ]
    },
    {
     "name": "stdout",
     "output_type": "stream",
     "text": [
      "[NeMo I 2023-10-04 20:29:12 nemo_model_checkpoint:168] New best .nemo model saved to: /project/code/nemo_experiments/p_tuning/2023-10-04_20-23-24/checkpoints/p_tuning.nemo\n",
      "[NeMo I 2023-10-04 20:29:12 nlp_overrides:231] Removing checkpoint: /project/code/nemo_experiments/p_tuning/2023-10-04_20-23-24/checkpoints/megatron_gpt_prompt_tune--val_loss=0.645-step=1000-last.ckpt\n"
     ]
    },
    {
     "name": "stderr",
     "output_type": "stream",
     "text": [
      "Metric val_loss improved by 0.061 >= min_delta = 0.001. New best score: 0.584\n"
     ]
    },
    {
     "data": {
      "application/vnd.jupyter.widget-view+json": {
       "model_id": "787f907855a843149e8f73f60f9872c8",
       "version_major": 2,
       "version_minor": 0
      },
      "text/plain": [
       "Validation: 0it [00:00, ?it/s]"
      ]
     },
     "metadata": {},
     "output_type": "display_data"
    },
    {
     "name": "stdout",
     "output_type": "stream",
     "text": [
      "[NeMo I 2023-10-04 20:31:56 megatron_gpt_prompt_learning_model:440] val_loss: 0.5942495465278625\n"
     ]
    },
    {
     "name": "stderr",
     "output_type": "stream",
     "text": [
      "Epoch 2, global step 3000: 'val_loss' reached 0.59425 (best 0.58363), saving model to '/project/code/nemo_experiments/p_tuning/2023-10-04_20-23-24/checkpoints/megatron_gpt_prompt_tune--val_loss=0.594-step=3000.ckpt' as top 2\n"
     ]
    },
    {
     "name": "stdout",
     "output_type": "stream",
     "text": [
      "[NeMo I 2023-10-04 20:31:56 nemo_model_checkpoint:168] New best .nemo model saved to: /project/code/nemo_experiments/p_tuning/2023-10-04_20-23-24/checkpoints/p_tuning.nemo\n",
      "[NeMo I 2023-10-04 20:31:56 nlp_overrides:231] Removing checkpoint: /project/code/nemo_experiments/p_tuning/2023-10-04_20-23-24/checkpoints/megatron_gpt_prompt_tune--val_loss=0.645-step=1000.ckpt\n",
      "[NeMo I 2023-10-04 20:31:57 nemo_model_checkpoint:168] New best .nemo model saved to: /project/code/nemo_experiments/p_tuning/2023-10-04_20-23-24/checkpoints/p_tuning.nemo\n",
      "[NeMo I 2023-10-04 20:31:57 nlp_overrides:231] Removing checkpoint: /project/code/nemo_experiments/p_tuning/2023-10-04_20-23-24/checkpoints/megatron_gpt_prompt_tune--val_loss=0.584-step=2000-last.ckpt\n"
     ]
    },
    {
     "data": {
      "application/vnd.jupyter.widget-view+json": {
       "model_id": "46c8b92277ee427eb09d482e5c7c538d",
       "version_major": 2,
       "version_minor": 0
      },
      "text/plain": [
       "Validation: 0it [00:00, ?it/s]"
      ]
     },
     "metadata": {},
     "output_type": "display_data"
    },
    {
     "name": "stdout",
     "output_type": "stream",
     "text": [
      "[NeMo I 2023-10-04 20:34:43 megatron_gpt_prompt_learning_model:440] val_loss: 0.5817310810089111\n"
     ]
    },
    {
     "name": "stderr",
     "output_type": "stream",
     "text": [
      "Epoch 3, global step 4000: 'val_loss' reached 0.58173 (best 0.58173), saving model to '/project/code/nemo_experiments/p_tuning/2023-10-04_20-23-24/checkpoints/megatron_gpt_prompt_tune--val_loss=0.582-step=4000.ckpt' as top 2\n"
     ]
    },
    {
     "name": "stdout",
     "output_type": "stream",
     "text": [
      "[NeMo I 2023-10-04 20:34:43 nlp_overrides:231] Removing checkpoint: /project/code/nemo_experiments/p_tuning/2023-10-04_20-23-24/checkpoints/megatron_gpt_prompt_tune--val_loss=0.594-step=3000.ckpt\n",
      "[NeMo I 2023-10-04 20:34:43 nemo_model_checkpoint:168] New best .nemo model saved to: /project/code/nemo_experiments/p_tuning/2023-10-04_20-23-24/checkpoints/p_tuning.nemo\n",
      "[NeMo I 2023-10-04 20:34:43 nlp_overrides:231] Removing checkpoint: /project/code/nemo_experiments/p_tuning/2023-10-04_20-23-24/checkpoints/megatron_gpt_prompt_tune--val_loss=0.594-step=3000-last.ckpt\n"
     ]
    },
    {
     "name": "stderr",
     "output_type": "stream",
     "text": [
      "Metric val_loss improved by 0.002 >= min_delta = 0.001. New best score: 0.582\n",
      "`Trainer.fit` stopped: `max_epochs=4` reached.\n"
     ]
    },
    {
     "name": "stdout",
     "output_type": "stream",
     "text": [
      "[NeMo I 2023-10-04 20:34:43 nemo_model_checkpoint:168] New best .nemo model saved to: /project/code/nemo_experiments/p_tuning/2023-10-04_20-23-24/checkpoints/p_tuning.nemo\n"
     ]
    },
    {
     "name": "stderr",
     "output_type": "stream",
     "text": [
      "Restoring states from the checkpoint path at /project/code/nemo_experiments/p_tuning/2023-10-04_20-23-24/checkpoints/megatron_gpt_prompt_tune--val_loss=0.582-step=4000.ckpt\n",
      "Restored all states from the checkpoint file at /project/code/nemo_experiments/p_tuning/2023-10-04_20-23-24/checkpoints/megatron_gpt_prompt_tune--val_loss=0.582-step=4000.ckpt\n"
     ]
    }
   ],
   "source": [
    "# Each epoch will take at least a few minutes, but training time can vary\n",
    "trainer.fit(model)"
   ]
  },
  {
   "cell_type": "markdown",
   "id": "f7edb1fa",
   "metadata": {},
   "source": [
    "# Inference After P-Tuning\n",
    "One way to run inference after p-tuning or prompt-tuning your model is to call `model.generate()`. `model.generate()` takes in \n",
    "\n",
    "- `inputs` which can be either a list of dictionary objects or `.jsonl` files containing dictionary objects, \n",
    "- `length_params`\n",
    "- `sampling_params`\n",
    "\n",
    "as arguments. More information about the [text generation API can be found here](https://github.com/NVIDIA/NeMo/blob/main/nemo/collections/nlp/modules/common/transformer/text_generation.py).\n",
    "\n",
    "If `length_params` and `sampling_params` are set to `None`, the model generates output with a greedy decoding strategy and generates up to `30` new tokens. Most predictive downstream tasks (not text generation tasks), use greedy sampling. To see other ways to run inference with your prompt learning model and more details on how to define various inference parameters, visit `examples/nlp/language_modeling/megatron_gpt_eval.py`.\n",
    "\n",
    "Below are some randomly selected test examples from the sentiment classification and intent and slot classification test files. Notice that the `label` field is dropped from all test examples. The `MegatronPromptLearningDataset` called within `.generate()` automatically leaves fields in the prompt template empty when they are not provided in the data json. "
   ]
  },
  {
   "cell_type": "code",
   "execution_count": 25,
   "id": "44c025ae",
   "metadata": {},
   "outputs": [],
   "source": [
    "test_examples = [\n",
    "    {\"taskname\": \"squad\", \"context\": \"The build was released for download later in the day in standard 32-bit and 64-bit versions, plus a special 64-bit version which included SDKs and developer tools (Visual Studio Express and Expression Blend) for developing Metro-style apps. The Windows Store was announced during the presentation, but was not available in this build. According to Microsoft, there were about 535,000 downloads of the developer preview within the first 12 hours of its release. Originally set to expire on March 11, 2012, in February 2012 the Developer Preview's expiry date was changed to January 15, 2013.\", \"question\": \"When was the Developer preview initially intended to expire?\"},\n",
    "    {\"taskname\": \"squad\", \"context\": \"The structures of most federal governments incorporate mechanisms to protect the rights of component states. One method, known as 'intrastate federalism', is to directly represent the governments of component states in federal political institutions. Where a federation has a bicameral legislature the upper house is often used to represent the component states while the lower house represents the people of the nation as a whole. A federal upper house may be based on a special scheme of apportionment, as is the case in the senates of the United States and Australia, where each state is represented by an equal number of senators irrespective of the size of its population.\", \"question\": \"What is a bicameral legislature?\"},\n",
    "    {\"taskname\": \"squad\", \"context\": \"Imported mystery religions, which offered initiates salvation in the afterlife, were a matter of personal choice for an individual, practiced in addition to carrying on one's family rites and participating in public religion. The mysteries, however, involved exclusive oaths and secrecy, conditions that conservative Romans viewed with suspicion as characteristic of \\\"magic\\\", conspiratorial (coniuratio), or subversive activity. Sporadic and sometimes brutal attempts were made to suppress religionists who seemed to threaten traditional morality and unity, as with the senate's efforts to restrict the Bacchanals in 186 BC.\", \"question\": \"What was the practice of religion to the Romans?\"}\n",
    "]"
   ]
  },
  {
   "cell_type": "code",
   "execution_count": 26,
   "id": "4dee5444",
   "metadata": {
    "scrolled": true
   },
   "outputs": [
    {
     "name": "stdout",
     "output_type": "stream",
     "text": [
      "[NeMo I 2023-10-04 20:34:44 gpt_prompt_learning_dataset:85] Loading and tokenizing dataset ... \n"
     ]
    },
    {
     "data": {
      "application/vnd.jupyter.widget-view+json": {
       "model_id": "a65ed9bc4402481eaaf6266ad4e2cf05",
       "version_major": 2,
       "version_minor": 0
      },
      "text/plain": [
       "  0%|          | 0/3 [00:00<?, ?it/s]"
      ]
     },
     "metadata": {},
     "output_type": "display_data"
    },
    {
     "name": "stdout",
     "output_type": "stream",
     "text": [
      "[NeMo I 2023-10-04 20:34:44 gpt_prompt_learning_dataset:196] Skipped 0 sentences, sequence length too short or too long even after truncation\n"
     ]
    },
    {
     "name": "stderr",
     "output_type": "stream",
     "text": [
      "[NeMo W 2023-10-04 20:34:45 nemo_logging:349] /usr/local/lib/python3.10/dist-packages/nemo/collections/nlp/modules/common/text_generation_utils.py:311: UserWarning: The given NumPy array is not writable, and PyTorch does not support non-writable tensors. This means writing to this tensor will result in undefined behavior. You may want to copy the array to protect its data or make it writable before converting it to a tensor. This type of warning will be suppressed for the rest of this program. (Triggered internally at /opt/pytorch/pytorch/torch/csrc/utils/tensor_numpy.cpp:206.)\n",
      "      string_tensor = torch.as_tensor(\n",
      "    \n"
     ]
    },
    {
     "name": "stdout",
     "output_type": "stream",
     "text": [
      "The prediction results of some sample queries with the trained model:\n",
      "Context: The build was released for download later in the day in standard 32-bit and 64-bit versions, plus a special 64-bit version which included SDKs and developer tools (Visual Studio Express and Expression Blend) for developing Metro-style apps. The Windows Store was announced during the presentation, but was not available in this build. According to Microsoft, there were about 535,000 downloads of the developer preview within the first 12 hours of its release. Originally set to expire on March 11, 2012, in February 2012 the Developer Preview's expiry date was changed to January 15, 2013.\n",
      "\n",
      "Question: When was the Developer preview initially intended to expire?\n",
      "\n",
      "Answer:February 2012\n",
      "------------------------------\n",
      "Context: The structures of most federal governments incorporate mechanisms to protect the rights of component states. One method, known as 'intrastate federalism', is to directly represent the governments of component states in federal political institutions. Where a federation has a bicameral legislature the upper house is often used to represent the component states while the lower house represents the people of the nation as a whole. A federal upper house may be based on a special scheme of apportionment, as is the case in the senates of the United States and Australia, where each state is represented by an equal number of senators irrespective of the size of its population.\n",
      "\n",
      "Question: What is a bicameral legislature?\n",
      "\n",
      "Answer:upper house\n",
      "------------------------------\n",
      "Context: Imported mystery religions, which offered initiates salvation in the afterlife, were a matter of personal choice for an individual, practiced in addition to carrying on one's family rites and participating in public religion. The mysteries, however, involved exclusive oaths and secrecy, conditions that conservative Romans viewed with suspicion as characteristic of \"magic\", conspiratorial (coniuratio), or subversive activity. Sporadic and sometimes brutal attempts were made to suppress religionists who seemed to threaten traditional morality and unity, as with the senate's efforts to restrict the Bacchanals in 186 BC.\n",
      "\n",
      "Question: What was the practice of religion to the Romans?\n",
      "\n",
      "Answer:exclusive oaths and secrecy\n",
      "------------------------------\n"
     ]
    }
   ],
   "source": [
    "response = model.generate(inputs=test_examples, length_params=None)\n",
    "\n",
    "print('The prediction results of some sample queries with the trained model:')\n",
    "for result in response['sentences']:\n",
    "    print(result)\n",
    "    print(\"-\" * 30)"
   ]
  }
 ],
 "metadata": {
  "kernelspec": {
   "display_name": "Python 3 (ipykernel)",
   "language": "python",
   "name": "python3"
  },
  "language_info": {
   "codemirror_mode": {
    "name": "ipython",
    "version": 3
   },
   "file_extension": ".py",
   "mimetype": "text/x-python",
   "name": "python",
   "nbconvert_exporter": "python",
   "pygments_lexer": "ipython3",
   "version": "3.10.6"
  }
 },
 "nbformat": 4,
 "nbformat_minor": 5
}
